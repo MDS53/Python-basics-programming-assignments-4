{
 "cells": [
  {
   "cell_type": "markdown",
   "id": "c2ded277",
   "metadata": {},
   "source": [
    "### 1.\tWrite a Python Program to Find the Factorial of a Number?"
   ]
  },
  {
   "cell_type": "code",
   "execution_count": 6,
   "id": "267eb3c3",
   "metadata": {},
   "outputs": [
    {
     "name": "stdout",
     "output_type": "stream",
     "text": [
      "Enter number7\n",
      "5040\n"
     ]
    }
   ],
   "source": [
    "n=int(input(\"Enter number\"))\n",
    "j=1\n",
    "for i in range(1,n+1):\n",
    "    j*=i\n",
    "print(j)"
   ]
  },
  {
   "cell_type": "markdown",
   "id": "c5434489",
   "metadata": {},
   "source": [
    "### 2.\tWrite a Python Program to Display the multiplication Table?"
   ]
  },
  {
   "cell_type": "code",
   "execution_count": 7,
   "id": "66b5e300",
   "metadata": {
    "scrolled": true
   },
   "outputs": [
    {
     "name": "stdout",
     "output_type": "stream",
     "text": [
      "Enter a number3\n",
      "3 x 1 = 3\n",
      "3 x 2 = 6\n",
      "3 x 3 = 9\n",
      "3 x 4 = 12\n",
      "3 x 5 = 15\n",
      "3 x 6 = 18\n",
      "3 x 7 = 21\n",
      "3 x 8 = 24\n",
      "3 x 9 = 27\n",
      "3 x 10 = 30\n"
     ]
    }
   ],
   "source": [
    "n=int(input(\"Enter a number\"))\n",
    "for i in range(1,11):\n",
    "    print(n,\"x\",i,\"=\",n*i)"
   ]
  },
  {
   "cell_type": "markdown",
   "id": "fb606c8b",
   "metadata": {},
   "source": [
    "### 3.\tWrite a Python Program to Print the Fibonacci sequence?"
   ]
  },
  {
   "cell_type": "code",
   "execution_count": 17,
   "id": "c020b666",
   "metadata": {},
   "outputs": [
    {
     "name": "stdout",
     "output_type": "stream",
     "text": [
      "How many terms you need in fibonacci sequence6\n",
      "0 1 1 2 3 5 "
     ]
    }
   ],
   "source": [
    "n=int(input(\"How many terms you need in fibonacci sequence\"))\n",
    "f=0\n",
    "s=1\n",
    "t=0\n",
    "if n==1:\n",
    "    print(f)\n",
    "elif n==2:\n",
    "    print(f,s)\n",
    "else:\n",
    "    print(f,s,end=\" \")\n",
    "    for i in range((n)-2):\n",
    "        t=f+s\n",
    "        print(t, end=\" \")\n",
    "        f=s\n",
    "        s=t"
   ]
  },
  {
   "cell_type": "markdown",
   "id": "6958ba6b",
   "metadata": {},
   "source": [
    "### 4.\tWrite a Python Program to Check Armstrong Number?"
   ]
  },
  {
   "cell_type": "code",
   "execution_count": 53,
   "id": "db8b8856",
   "metadata": {
    "scrolled": true
   },
   "outputs": [
    {
     "name": "stdout",
     "output_type": "stream",
     "text": [
      "Enter a number10\n",
      "1 is Not a Amstrong number\n"
     ]
    }
   ],
   "source": [
    "n=input(\"Enter a number\")\n",
    "l=len(n)\n",
    "m=0\n",
    "\n",
    "for i in n:\n",
    "    i=int(i)\n",
    "    m+=i**l\n",
    "k=int(n)\n",
    "if k==m:\n",
    "    print(m,\" is Armstrong number\")\n",
    "else:\n",
    "    print(m,\"is Not a Amstrong number\")\n",
    "    "
   ]
  },
  {
   "cell_type": "markdown",
   "id": "3f2e403c",
   "metadata": {},
   "source": [
    "### 5.\tWrite a Python Program to Find Armstrong Number in an Interval?"
   ]
  },
  {
   "cell_type": "code",
   "execution_count": 37,
   "id": "8f357255",
   "metadata": {},
   "outputs": [
    {
     "name": "stdout",
     "output_type": "stream",
     "text": [
      "Lower bound :1\n",
      "Upper bound :408\n",
      "1 is a Armstrong number\n",
      "2 is a Armstrong number\n",
      "3 is a Armstrong number\n",
      "4 is a Armstrong number\n",
      "5 is a Armstrong number\n",
      "6 is a Armstrong number\n",
      "7 is a Armstrong number\n",
      "8 is a Armstrong number\n",
      "9 is a Armstrong number\n",
      "153 is a Armstrong number\n",
      "370 is a Armstrong number\n",
      "371 is a Armstrong number\n",
      "407 is a Armstrong number\n"
     ]
    }
   ],
   "source": [
    "lb=int(input(\"Lower bound :\"))\n",
    "ub=int(input(\"Upper bound :\"))\n",
    "m=0\n",
    "k=0\n",
    "p=0\n",
    "for i in range(lb,ub):\n",
    "    k=i\n",
    "    i=str(i)\n",
    "    l=len(i)\n",
    "    m=0\n",
    "    for j in i:\n",
    "        p=int(j)\n",
    "        m+=p**l\n",
    "    if(k==m):\n",
    "        print(m,\"is a Armstrong number\")"
   ]
  },
  {
   "cell_type": "markdown",
   "id": "7582aa22",
   "metadata": {},
   "source": [
    "### 6.\tWrite a Python Program to Find the Sum of Natural Numbers?"
   ]
  },
  {
   "cell_type": "code",
   "execution_count": 33,
   "id": "096da036",
   "metadata": {},
   "outputs": [
    {
     "name": "stdout",
     "output_type": "stream",
     "text": [
      "Note : Natural numbers starts from 1\n",
      "Up to which element you want to sum up natural numbers5\n",
      "15 is the sum of 5 natural numbers\n"
     ]
    }
   ],
   "source": [
    "print(\"Note : Natural numbers starts from 1\")\n",
    "n=int(input(\"Up to which element you want to sum up natural numbers\"))\n",
    "p=0\n",
    "for i in range(n+1):\n",
    "    p+=i\n",
    "print(p,\"is the sum of\",n,\"natural numbers\")"
   ]
  }
 ],
 "metadata": {
  "kernelspec": {
   "display_name": "Python 3",
   "language": "python",
   "name": "python3"
  },
  "language_info": {
   "codemirror_mode": {
    "name": "ipython",
    "version": 3
   },
   "file_extension": ".py",
   "mimetype": "text/x-python",
   "name": "python",
   "nbconvert_exporter": "python",
   "pygments_lexer": "ipython3",
   "version": "3.8.8"
  }
 },
 "nbformat": 4,
 "nbformat_minor": 5
}
